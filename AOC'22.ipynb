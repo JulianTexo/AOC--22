{
 "cells": [
  {
   "cell_type": "markdown",
   "metadata": {},
   "source": [
    "Load the File into a list"
   ]
  },
  {
   "cell_type": "code",
   "execution_count": 9,
   "metadata": {},
   "outputs": [],
   "source": [
    "with open('1-12-input.txt') as f:\n",
    "    contents = [line.rstrip() for line in f]"
   ]
  },
  {
   "cell_type": "markdown",
   "metadata": {},
   "source": [
    "Sum up Inventories and put them into a list"
   ]
  },
  {
   "cell_type": "code",
   "execution_count": 18,
   "metadata": {},
   "outputs": [
    {
     "name": "stdout",
     "output_type": "stream",
     "text": [
      "[47524, 49482, 43975, 42138, 44278, 48560, 39740, 44645, 58295, 44701, 46833, 35926, 46032, 39325, 37946, 55471, 36770, 52855, 25705, 56338, 54135, 39643, 60183, 56995, 16745, 49761, 45957, 32082, 57805, 57585, 51163, 50436, 47162, 60217, 49294, 51525, 47395, 50353, 32847, 54371, 55262, 5226, 39498, 50049, 56871, 58878, 45521, 31131, 53874, 25013, 52822, 35205, 57450, 49269, 46086, 51730, 35398, 40911, 61489, 49196, 50075, 21030, 44629, 35689, 44088, 65413, 50662, 49898, 41784, 36129, 41498, 47475, 52988, 42854, 54503, 55293, 53118, 39385, 47724, 42340, 55953, 48688, 56387, 33497, 52921, 44777, 51919, 57542, 58263, 50687, 46004, 43848, 53334, 47511, 61016, 51282, 46446, 35758, 55652, 45625, 50262, 49170, 49639, 49583, 51263, 55783, 45165, 36042, 44475, 40451, 54029, 46158, 41644, 19412, 40927, 47610, 20977, 57472, 53300, 58168, 53424, 56921, 51551, 54443, 29968, 29602, 66487, 57245, 55706, 40909, 18350, 46031, 43358, 56349, 48419, 56622, 60210, 49011, 23802, 54220, 54303, 41671, 34655, 31713, 54126, 52310, 48539, 44072, 54045, 51198, 47167, 54693, 65206, 55314, 42127, 46725, 54562, 58486, 52231, 55896, 52876, 55290, 51037, 51313, 45539, 33058, 55001, 48030, 49152, 47757, 20858, 48638, 56848, 48715, 61847, 53470, 32566, 53736, 53374, 52769, 40815, 28926, 41363, 44705, 59224, 60369, 58499, 55413, 50107, 54175, 65401, 41115, 43381, 41854, 46317, 54270, 27682, 39631, 53080, 49049, 53668, 62108, 37141, 49223, 48973, 35785, 33702, 42414, 46386, 48830, 48682, 56047, 55292, 29797, 29214, 49196, 37162, 50616, 58065, 32138, 45612, 25977, 49144, 52829, 54913, 43059, 43159, 32973, 45673, 45512, 35044, 44494, 49042, 55956, 30500, 48885, 39492, 57230, 37928, 53943, 60374, 43155, 55503, 29965, 41183, 28883, 62924, 40775, 54124, 49646, 46341, 53747, 24045, 55646]\n"
     ]
    }
   ],
   "source": [
    "inventories = []\n",
    "sum = 0\n",
    "for line in contents:\n",
    "    if line == \"\":\n",
    "        inventories.append(sum)\n",
    "        sum = 0\n",
    "    else:\n",
    "        line = line.replace('\\n', '')\n",
    "        sum += int(line)\n",
    "\n",
    "print(inventories)\n"
   ]
  },
  {
   "cell_type": "markdown",
   "metadata": {},
   "source": [
    "Find max Inventory and return it and the number of the elf"
   ]
  },
  {
   "cell_type": "code",
   "execution_count": 14,
   "metadata": {},
   "outputs": [
    {
     "name": "stdout",
     "output_type": "stream",
     "text": [
      "Elf 127 carries the most calories (66487)\n"
     ]
    }
   ],
   "source": [
    "max_inventory = max(inventories)\n",
    "index = inventories.index(max_inventory)\n",
    "\n",
    "print(\"Elf \" + str(index + 1) + \" carries the most calories (\" + str(max_inventory) + \")\")"
   ]
  },
  {
   "cell_type": "markdown",
   "metadata": {},
   "source": [
    "!!!PART 2:\n",
    "Find Top 3"
   ]
  },
  {
   "cell_type": "code",
   "execution_count": 22,
   "metadata": {},
   "outputs": [
    {
     "ename": "TypeError",
     "evalue": "'int' object is not callable",
     "output_type": "error",
     "traceback": [
      "\u001b[1;31m---------------------------------------------------------------------------\u001b[0m",
      "\u001b[1;31mTypeError\u001b[0m                                 Traceback (most recent call last)",
      "\u001b[1;32m~\\AppData\\Local\\Temp\\ipykernel_1120\\4117526805.py\u001b[0m in \u001b[0;36m<module>\u001b[1;34m\u001b[0m\n\u001b[0;32m      2\u001b[0m \u001b[0msum\u001b[0m \u001b[1;33m=\u001b[0m \u001b[1;36m0\u001b[0m\u001b[1;33m\u001b[0m\u001b[1;33m\u001b[0m\u001b[0m\n\u001b[0;32m      3\u001b[0m \u001b[1;32mfor\u001b[0m \u001b[0mx\u001b[0m \u001b[1;32min\u001b[0m \u001b[0mrange\u001b[0m\u001b[1;33m(\u001b[0m\u001b[0mTOP_COUNT\u001b[0m\u001b[1;33m)\u001b[0m\u001b[1;33m:\u001b[0m\u001b[1;33m\u001b[0m\u001b[1;33m\u001b[0m\u001b[0m\n\u001b[1;32m----> 4\u001b[1;33m     \u001b[0mmax_inventory\u001b[0m \u001b[1;33m=\u001b[0m \u001b[0mmax\u001b[0m\u001b[1;33m(\u001b[0m\u001b[0minventories\u001b[0m\u001b[1;33m)\u001b[0m\u001b[1;33m\u001b[0m\u001b[1;33m\u001b[0m\u001b[0m\n\u001b[0m\u001b[0;32m      5\u001b[0m     \u001b[0msum\u001b[0m \u001b[1;33m+=\u001b[0m \u001b[0mmax_inventory\u001b[0m\u001b[1;33m\u001b[0m\u001b[1;33m\u001b[0m\u001b[0m\n\u001b[0;32m      6\u001b[0m     \u001b[0minventories\u001b[0m\u001b[1;33m.\u001b[0m\u001b[0mremove\u001b[0m\u001b[1;33m(\u001b[0m\u001b[0mmax_inventory\u001b[0m\u001b[1;33m)\u001b[0m\u001b[1;33m\u001b[0m\u001b[1;33m\u001b[0m\u001b[0m\n",
      "\u001b[1;31mTypeError\u001b[0m: 'int' object is not callable"
     ]
    }
   ],
   "source": [
    "TOP_COUNT = 3\n",
    "sum = 0\n",
    "for x in range(TOP_COUNT):\n",
    "    max_inventory = max(inventories)\n",
    "    sum += max_inventory\n",
    "    inventories.remove(max_inventory)\n",
    "print(\"The Top\" + str(TOP_COUNT) + \" Elves carry \" + str(sum) + \" Calories.\")\n"
   ]
  }
 ],
 "metadata": {
  "kernelspec": {
   "display_name": "Python 3.9.13 ('base')",
   "language": "python",
   "name": "python3"
  },
  "language_info": {
   "codemirror_mode": {
    "name": "ipython",
    "version": 3
   },
   "file_extension": ".py",
   "mimetype": "text/x-python",
   "name": "python",
   "nbconvert_exporter": "python",
   "pygments_lexer": "ipython3",
   "version": "3.9.13"
  },
  "orig_nbformat": 4,
  "vscode": {
   "interpreter": {
    "hash": "a5aa82eb4a73d48c10b6e1ce205b8561813b2b0479f52dd29110622c06ab711a"
   }
  }
 },
 "nbformat": 4,
 "nbformat_minor": 2
}
